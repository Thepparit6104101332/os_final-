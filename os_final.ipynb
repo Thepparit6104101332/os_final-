{
  "nbformat": 4,
  "nbformat_minor": 0,
  "metadata": {
    "colab": {
      "provenance": []
    },
    "kernelspec": {
      "name": "python3",
      "display_name": "Python 3"
    },
    "language_info": {
      "name": "python"
    }
  },
  "cells": [
    {
      "cell_type": "markdown",
      "source": [
        "รหัส 6104101332\n",
        "\n",
        "ชื่อนายเทพฤทธิ์ จันทะบูลย์\n",
        "\n",
        "กลุ่มเรียนที่ 2"
      ],
      "metadata": {
        "id": "LTd79mgKSPOg"
      }
    },
    {
      "cell_type": "code",
      "source": [
        "print(\"รหัส 6104101332 \\n นายเทพฤทธิ์  จันทะบูลย์ \\n กลุ่มเรียนที่2\")"
      ],
      "metadata": {
        "colab": {
          "base_uri": "https://localhost:8080/"
        },
        "id": "aYGGm3UUSR1H",
        "outputId": "be1a0b72-be99-4f46-9c97-72d3293a5006"
      },
      "execution_count": 1,
      "outputs": [
        {
          "output_type": "stream",
          "name": "stdout",
          "text": [
            "รหัส 6104101332 \n",
            " นายเทพฤทธิ์  จันทะบูลย์ \n",
            " กลุ่มเรียนที่2\n"
          ]
        }
      ]
    }
  ]
}